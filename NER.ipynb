{
 "cells": [
  {
   "cell_type": "code",
   "execution_count": 16,
   "metadata": {},
   "outputs": [],
   "source": [
    "#pip install tdqm\n",
    "#pip install transformers\n",
    "#pip install torch\n",
    "#pip install pandas\n",
    "\n",
    "import pandas as pd\n",
    "import torch\n",
    "from transformers import AutoTokenizer, AutoModelForTokenClassification, pipeline\n",
    "from tqdm import tqdm\n"
   ]
  },
  {
   "cell_type": "code",
   "execution_count": 7,
   "metadata": {},
   "outputs": [
    {
     "data": {
      "text/html": [
       "<div>\n",
       "<style scoped>\n",
       "    .dataframe tbody tr th:only-of-type {\n",
       "        vertical-align: middle;\n",
       "    }\n",
       "\n",
       "    .dataframe tbody tr th {\n",
       "        vertical-align: top;\n",
       "    }\n",
       "\n",
       "    .dataframe thead th {\n",
       "        text-align: right;\n",
       "    }\n",
       "</style>\n",
       "<table border=\"1\" class=\"dataframe\">\n",
       "  <thead>\n",
       "    <tr style=\"text-align: right;\">\n",
       "      <th></th>\n",
       "      <th>auhtor_ID</th>\n",
       "      <th>post</th>\n",
       "      <th>political_leaning</th>\n",
       "    </tr>\n",
       "  </thead>\n",
       "  <tbody>\n",
       "    <tr>\n",
       "      <th>0</th>\n",
       "      <td>t2_7ramzeng</td>\n",
       "      <td>You can \"buy\" the show and stream it through t...</td>\n",
       "      <td>right</td>\n",
       "    </tr>\n",
       "    <tr>\n",
       "      <th>1</th>\n",
       "      <td>t2_7ramzeng</td>\n",
       "      <td>me want to play Q*bert Holy shit, based Alex J...</td>\n",
       "      <td>right</td>\n",
       "    </tr>\n",
       "    <tr>\n",
       "      <th>2</th>\n",
       "      <td>t2_7ramzeng</td>\n",
       "      <td>Shouldn't rely on any external services or per...</td>\n",
       "      <td>right</td>\n",
       "    </tr>\n",
       "    <tr>\n",
       "      <th>3</th>\n",
       "      <td>t2_7ramzeng</td>\n",
       "      <td>PR to a specific person. Usually that just mea...</td>\n",
       "      <td>right</td>\n",
       "    </tr>\n",
       "    <tr>\n",
       "      <th>4</th>\n",
       "      <td>t2_7ramzeng</td>\n",
       "      <td>This article's intention is clear that they wa...</td>\n",
       "      <td>right</td>\n",
       "    </tr>\n",
       "  </tbody>\n",
       "</table>\n",
       "</div>"
      ],
      "text/plain": [
       "     auhtor_ID                                               post  \\\n",
       "0  t2_7ramzeng  You can \"buy\" the show and stream it through t...   \n",
       "1  t2_7ramzeng  me want to play Q*bert Holy shit, based Alex J...   \n",
       "2  t2_7ramzeng  Shouldn't rely on any external services or per...   \n",
       "3  t2_7ramzeng  PR to a specific person. Usually that just mea...   \n",
       "4  t2_7ramzeng  This article's intention is clear that they wa...   \n",
       "\n",
       "  political_leaning  \n",
       "0             right  \n",
       "1             right  \n",
       "2             right  \n",
       "3             right  \n",
       "4             right  "
      ]
     },
     "execution_count": 7,
     "metadata": {},
     "output_type": "execute_result"
    }
   ],
   "source": [
    "political_leaning_df = pd.read_csv('/Users/kaanncc/Downloads/lai-data/political_leaning.csv')\n",
    "political_leaning_df.head()\n"
   ]
  },
  {
   "cell_type": "code",
   "execution_count": null,
   "metadata": {},
   "outputs": [],
   "source": [
    "\n",
    "\n",
    "# Load the pre-trained model and tokenizer\n",
    "model_name = \"dslim/bert-base-NER\"\n",
    "tokenizer = AutoTokenizer.from_pretrained(model_name)\n",
    "model = AutoModelForTokenClassification.from_pretrained(model_name)\n",
    "\n",
    "# Check if GPU is available and set the device\n",
    "device = torch.device(\"cuda\" if torch.cuda.is_available() else \"cpu\")\n",
    "model.to(device)\n",
    "\n",
    "# Create a NER pipeline with GPU support\n",
    "ner_pipeline = pipeline(\"ner\", model=model, tokenizer=tokenizer, grouped_entities=True, device=0 if torch.cuda.is_available() else -1)\n",
    "\n",
    "# Extract text data from the 'post' column\n",
    "text_data = political_leaning_df['post'].dropna().tolist()\n",
    "\n",
    "# Perform NER with a progress bar\n",
    "ner_results = []\n",
    "for text in tqdm(text_data, desc=\"Processing NER\"):\n",
    "    ner_results.append(ner_pipeline(text))\n",
    "\n",
    "political_leaning_df['extracted_entities'] = ner_results\n",
    "\n",
    "output_path = 'x' #where to save\n",
    "political_leaning_df.to_csv(output_path, index=False)\n",
    "\n",
    "print(f\"NER results saved to: {output_path}\")\n",
    "\n",
    "\n"
   ]
  },
  {
   "cell_type": "code",
   "execution_count": 18,
   "metadata": {},
   "outputs": [
    {
     "name": "stdout",
     "output_type": "stream",
     "text": [
      "    auhtor_ID                                               post  birth_year\n",
      "0  t2_rnjzutp  Good on you for being responsible! I know self...        2001\n",
      "1  t2_rnjzutp  must go to the grocery store with their child,...        2001\n",
      "2  t2_rnjzutp  things on her videos, and YouTube took the vid...        2001\n",
      "3  t2_rnjzutp  their app. There's also a program called SYNC ...        2001\n",
      "4  t2_rnjzutp  side. If the cops don't take your side, you'll...        2001\n"
     ]
    }
   ],
   "source": [
    "\n",
    "birth_year_path = 'Users/kaanncc/Downloads/lai-data/birth_year.csv'\n",
    "birth_year_df = pd.read_csv(birth_year_path)\n",
    "print(birth_year_df.head())"
   ]
  },
  {
   "cell_type": "code",
   "execution_count": null,
   "metadata": {},
   "outputs": [],
   "source": [
    "\n",
    "# Load the NER model and tokenizer\n",
    "model_name = \"dslim/bert-base-NER\"\n",
    "tokenizer = AutoTokenizer.from_pretrained(model_name)\n",
    "model = AutoModelForTokenClassification.from_pretrained(model_name)\n",
    "\n",
    "# Set device to GPU if available\n",
    "device = torch.device(\"cuda\" if torch.cuda.is_available() else \"cpu\")\n",
    "model.to(device)\n",
    "\n",
    "# Create the NER pipeline\n",
    "ner_pipeline = pipeline(\"ner\", model=model, tokenizer=tokenizer, grouped_entities=True, device=0 if torch.cuda.is_available() else -1)\n",
    "\n",
    "# Extract text column (replace 'text_column' with the actual column name)\n",
    "text_column = 'your_text_column'  # Update with the actual text column name\n",
    "text_data = birth_year_df[text_column].dropna().tolist()\n",
    "\n",
    "# Perform NER with progress bar\n",
    "ner_results = []\n",
    "for text in tqdm(text_data, desc=\"Processing NER for birth_year.csv\"):\n",
    "    ner_results.append(ner_pipeline(text))\n",
    "\n",
    "# Add the results to the DataFrame\n",
    "birth_year_df['extracted_entities'] = ner_results\n",
    "\n",
    "# Save the updated DataFrame to a new CSV file for review\n",
    "output_path = 'x' #where to save\n",
    "birth_year_df.to_csv(output_path, index=False)\n",
    "\n",
    "print(f\"NER results saved to: {output_path}\")\n"
   ]
  }
 ],
 "metadata": {
  "kernelspec": {
   "display_name": "Python 3",
   "language": "python",
   "name": "python3"
  },
  "language_info": {
   "codemirror_mode": {
    "name": "ipython",
    "version": 3
   },
   "file_extension": ".py",
   "mimetype": "text/x-python",
   "name": "python",
   "nbconvert_exporter": "python",
   "pygments_lexer": "ipython3",
   "version": "3.11.6"
  }
 },
 "nbformat": 4,
 "nbformat_minor": 2
}
